{
 "cells": [
  {
   "cell_type": "markdown",
   "id": "89e57856",
   "metadata": {},
   "source": [
    "# Malignant-Comments-Classifier"
   ]
  },
  {
   "cell_type": "code",
   "execution_count": 1,
   "id": "1b28309b",
   "metadata": {},
   "outputs": [],
   "source": [
    "import pandas as pd\n",
    "import numpy as np\n",
    "import seaborn as sns\n",
    "import matplotlib.pyplot as plt\n",
    "import string\n",
    "import re\n",
    "import nltk\n",
    "from nltk.corpus import  stopwords\n",
    "from sklearn.feature_extraction.text import TfidfVectorizer\n",
    "from nltk.corpus import wordnet\n",
    "from nltk.stem import WordNetLemmatizer, SnowballStemmer\n",
    "from nltk import pos_tag\n",
    "import warnings\n",
    "warnings.filterwarnings('ignore')"
   ]
  },
  {
   "cell_type": "code",
   "execution_count": 4,
   "id": "f60671d6",
   "metadata": {},
   "outputs": [
    {
     "data": {
      "text/html": [
       "<div>\n",
       "<style scoped>\n",
       "    .dataframe tbody tr th:only-of-type {\n",
       "        vertical-align: middle;\n",
       "    }\n",
       "\n",
       "    .dataframe tbody tr th {\n",
       "        vertical-align: top;\n",
       "    }\n",
       "\n",
       "    .dataframe thead th {\n",
       "        text-align: right;\n",
       "    }\n",
       "</style>\n",
       "<table border=\"1\" class=\"dataframe\">\n",
       "  <thead>\n",
       "    <tr style=\"text-align: right;\">\n",
       "      <th></th>\n",
       "      <th>id</th>\n",
       "      <th>comment_text</th>\n",
       "      <th>malignant</th>\n",
       "      <th>highly_malignant</th>\n",
       "      <th>rude</th>\n",
       "      <th>threat</th>\n",
       "      <th>abuse</th>\n",
       "      <th>loathe</th>\n",
       "    </tr>\n",
       "  </thead>\n",
       "  <tbody>\n",
       "    <tr>\n",
       "      <th>0</th>\n",
       "      <td>0000997932d777bf</td>\n",
       "      <td>Explanation\\nWhy the edits made under my usern...</td>\n",
       "      <td>0</td>\n",
       "      <td>0</td>\n",
       "      <td>0</td>\n",
       "      <td>0</td>\n",
       "      <td>0</td>\n",
       "      <td>0</td>\n",
       "    </tr>\n",
       "    <tr>\n",
       "      <th>1</th>\n",
       "      <td>000103f0d9cfb60f</td>\n",
       "      <td>D'aww! He matches this background colour I'm s...</td>\n",
       "      <td>0</td>\n",
       "      <td>0</td>\n",
       "      <td>0</td>\n",
       "      <td>0</td>\n",
       "      <td>0</td>\n",
       "      <td>0</td>\n",
       "    </tr>\n",
       "    <tr>\n",
       "      <th>2</th>\n",
       "      <td>000113f07ec002fd</td>\n",
       "      <td>Hey man, I'm really not trying to edit war. It...</td>\n",
       "      <td>0</td>\n",
       "      <td>0</td>\n",
       "      <td>0</td>\n",
       "      <td>0</td>\n",
       "      <td>0</td>\n",
       "      <td>0</td>\n",
       "    </tr>\n",
       "    <tr>\n",
       "      <th>3</th>\n",
       "      <td>0001b41b1c6bb37e</td>\n",
       "      <td>\"\\nMore\\nI can't make any real suggestions on ...</td>\n",
       "      <td>0</td>\n",
       "      <td>0</td>\n",
       "      <td>0</td>\n",
       "      <td>0</td>\n",
       "      <td>0</td>\n",
       "      <td>0</td>\n",
       "    </tr>\n",
       "    <tr>\n",
       "      <th>4</th>\n",
       "      <td>0001d958c54c6e35</td>\n",
       "      <td>You, sir, are my hero. Any chance you remember...</td>\n",
       "      <td>0</td>\n",
       "      <td>0</td>\n",
       "      <td>0</td>\n",
       "      <td>0</td>\n",
       "      <td>0</td>\n",
       "      <td>0</td>\n",
       "    </tr>\n",
       "  </tbody>\n",
       "</table>\n",
       "</div>"
      ],
      "text/plain": [
       "                 id                                       comment_text  \\\n",
       "0  0000997932d777bf  Explanation\\nWhy the edits made under my usern...   \n",
       "1  000103f0d9cfb60f  D'aww! He matches this background colour I'm s...   \n",
       "2  000113f07ec002fd  Hey man, I'm really not trying to edit war. It...   \n",
       "3  0001b41b1c6bb37e  \"\\nMore\\nI can't make any real suggestions on ...   \n",
       "4  0001d958c54c6e35  You, sir, are my hero. Any chance you remember...   \n",
       "\n",
       "   malignant  highly_malignant  rude  threat  abuse  loathe  \n",
       "0          0                 0     0       0      0       0  \n",
       "1          0                 0     0       0      0       0  \n",
       "2          0                 0     0       0      0       0  \n",
       "3          0                 0     0       0      0       0  \n",
       "4          0                 0     0       0      0       0  "
      ]
     },
     "execution_count": 4,
     "metadata": {},
     "output_type": "execute_result"
    }
   ],
   "source": [
    "# Loading Malignant_train.CSV\n",
    "train=pd.read_csv('Malignant_train.csv')\n",
    "train.head()"
   ]
  },
  {
   "cell_type": "code",
   "execution_count": 5,
   "id": "c657f2c4",
   "metadata": {},
   "outputs": [
    {
     "data": {
      "text/html": [
       "<div>\n",
       "<style scoped>\n",
       "    .dataframe tbody tr th:only-of-type {\n",
       "        vertical-align: middle;\n",
       "    }\n",
       "\n",
       "    .dataframe tbody tr th {\n",
       "        vertical-align: top;\n",
       "    }\n",
       "\n",
       "    .dataframe thead th {\n",
       "        text-align: right;\n",
       "    }\n",
       "</style>\n",
       "<table border=\"1\" class=\"dataframe\">\n",
       "  <thead>\n",
       "    <tr style=\"text-align: right;\">\n",
       "      <th></th>\n",
       "      <th>id</th>\n",
       "      <th>comment_text</th>\n",
       "    </tr>\n",
       "  </thead>\n",
       "  <tbody>\n",
       "    <tr>\n",
       "      <th>0</th>\n",
       "      <td>00001cee341fdb12</td>\n",
       "      <td>Yo bitch Ja Rule is more succesful then you'll...</td>\n",
       "    </tr>\n",
       "    <tr>\n",
       "      <th>1</th>\n",
       "      <td>0000247867823ef7</td>\n",
       "      <td>== From RfC == \\n\\n The title is fine as it is...</td>\n",
       "    </tr>\n",
       "    <tr>\n",
       "      <th>2</th>\n",
       "      <td>00013b17ad220c46</td>\n",
       "      <td>\" \\n\\n == Sources == \\n\\n * Zawe Ashton on Lap...</td>\n",
       "    </tr>\n",
       "    <tr>\n",
       "      <th>3</th>\n",
       "      <td>00017563c3f7919a</td>\n",
       "      <td>:If you have a look back at the source, the in...</td>\n",
       "    </tr>\n",
       "    <tr>\n",
       "      <th>4</th>\n",
       "      <td>00017695ad8997eb</td>\n",
       "      <td>I don't anonymously edit articles at all.</td>\n",
       "    </tr>\n",
       "  </tbody>\n",
       "</table>\n",
       "</div>"
      ],
      "text/plain": [
       "                 id                                       comment_text\n",
       "0  00001cee341fdb12  Yo bitch Ja Rule is more succesful then you'll...\n",
       "1  0000247867823ef7  == From RfC == \\n\\n The title is fine as it is...\n",
       "2  00013b17ad220c46  \" \\n\\n == Sources == \\n\\n * Zawe Ashton on Lap...\n",
       "3  00017563c3f7919a  :If you have a look back at the source, the in...\n",
       "4  00017695ad8997eb          I don't anonymously edit articles at all."
      ]
     },
     "execution_count": 5,
     "metadata": {},
     "output_type": "execute_result"
    }
   ],
   "source": [
    "# Loading Malignant_test.csv\n",
    "test=pd.read_csv('Malignant_test.csv')\n",
    "test.head()"
   ]
  },
  {
   "cell_type": "code",
   "execution_count": 6,
   "id": "2445f6ea",
   "metadata": {},
   "outputs": [],
   "source": [
    "# Id is not gonna help to predict anything, So dropping it.\n",
    "train.drop(['id'],axis=1,inplace=True)"
   ]
  },
  {
   "cell_type": "code",
   "execution_count": 7,
   "id": "83cdfdbb",
   "metadata": {},
   "outputs": [
    {
     "data": {
      "text/html": [
       "<div>\n",
       "<style scoped>\n",
       "    .dataframe tbody tr th:only-of-type {\n",
       "        vertical-align: middle;\n",
       "    }\n",
       "\n",
       "    .dataframe tbody tr th {\n",
       "        vertical-align: top;\n",
       "    }\n",
       "\n",
       "    .dataframe thead th {\n",
       "        text-align: right;\n",
       "    }\n",
       "</style>\n",
       "<table border=\"1\" class=\"dataframe\">\n",
       "  <thead>\n",
       "    <tr style=\"text-align: right;\">\n",
       "      <th></th>\n",
       "      <th>comment_text</th>\n",
       "      <th>malignant</th>\n",
       "      <th>highly_malignant</th>\n",
       "      <th>rude</th>\n",
       "      <th>threat</th>\n",
       "      <th>abuse</th>\n",
       "      <th>loathe</th>\n",
       "      <th>length</th>\n",
       "    </tr>\n",
       "  </thead>\n",
       "  <tbody>\n",
       "    <tr>\n",
       "      <th>0</th>\n",
       "      <td>Explanation\\nWhy the edits made under my usern...</td>\n",
       "      <td>0</td>\n",
       "      <td>0</td>\n",
       "      <td>0</td>\n",
       "      <td>0</td>\n",
       "      <td>0</td>\n",
       "      <td>0</td>\n",
       "      <td>264</td>\n",
       "    </tr>\n",
       "    <tr>\n",
       "      <th>1</th>\n",
       "      <td>D'aww! He matches this background colour I'm s...</td>\n",
       "      <td>0</td>\n",
       "      <td>0</td>\n",
       "      <td>0</td>\n",
       "      <td>0</td>\n",
       "      <td>0</td>\n",
       "      <td>0</td>\n",
       "      <td>112</td>\n",
       "    </tr>\n",
       "    <tr>\n",
       "      <th>2</th>\n",
       "      <td>Hey man, I'm really not trying to edit war. It...</td>\n",
       "      <td>0</td>\n",
       "      <td>0</td>\n",
       "      <td>0</td>\n",
       "      <td>0</td>\n",
       "      <td>0</td>\n",
       "      <td>0</td>\n",
       "      <td>233</td>\n",
       "    </tr>\n",
       "    <tr>\n",
       "      <th>3</th>\n",
       "      <td>\"\\nMore\\nI can't make any real suggestions on ...</td>\n",
       "      <td>0</td>\n",
       "      <td>0</td>\n",
       "      <td>0</td>\n",
       "      <td>0</td>\n",
       "      <td>0</td>\n",
       "      <td>0</td>\n",
       "      <td>622</td>\n",
       "    </tr>\n",
       "    <tr>\n",
       "      <th>4</th>\n",
       "      <td>You, sir, are my hero. Any chance you remember...</td>\n",
       "      <td>0</td>\n",
       "      <td>0</td>\n",
       "      <td>0</td>\n",
       "      <td>0</td>\n",
       "      <td>0</td>\n",
       "      <td>0</td>\n",
       "      <td>67</td>\n",
       "    </tr>\n",
       "    <tr>\n",
       "      <th>...</th>\n",
       "      <td>...</td>\n",
       "      <td>...</td>\n",
       "      <td>...</td>\n",
       "      <td>...</td>\n",
       "      <td>...</td>\n",
       "      <td>...</td>\n",
       "      <td>...</td>\n",
       "      <td>...</td>\n",
       "    </tr>\n",
       "    <tr>\n",
       "      <th>159566</th>\n",
       "      <td>\":::::And for the second time of asking, when ...</td>\n",
       "      <td>0</td>\n",
       "      <td>0</td>\n",
       "      <td>0</td>\n",
       "      <td>0</td>\n",
       "      <td>0</td>\n",
       "      <td>0</td>\n",
       "      <td>295</td>\n",
       "    </tr>\n",
       "    <tr>\n",
       "      <th>159567</th>\n",
       "      <td>You should be ashamed of yourself \\n\\nThat is ...</td>\n",
       "      <td>0</td>\n",
       "      <td>0</td>\n",
       "      <td>0</td>\n",
       "      <td>0</td>\n",
       "      <td>0</td>\n",
       "      <td>0</td>\n",
       "      <td>99</td>\n",
       "    </tr>\n",
       "    <tr>\n",
       "      <th>159568</th>\n",
       "      <td>Spitzer \\n\\nUmm, theres no actual article for ...</td>\n",
       "      <td>0</td>\n",
       "      <td>0</td>\n",
       "      <td>0</td>\n",
       "      <td>0</td>\n",
       "      <td>0</td>\n",
       "      <td>0</td>\n",
       "      <td>81</td>\n",
       "    </tr>\n",
       "    <tr>\n",
       "      <th>159569</th>\n",
       "      <td>And it looks like it was actually you who put ...</td>\n",
       "      <td>0</td>\n",
       "      <td>0</td>\n",
       "      <td>0</td>\n",
       "      <td>0</td>\n",
       "      <td>0</td>\n",
       "      <td>0</td>\n",
       "      <td>116</td>\n",
       "    </tr>\n",
       "    <tr>\n",
       "      <th>159570</th>\n",
       "      <td>\"\\nAnd ... I really don't think you understand...</td>\n",
       "      <td>0</td>\n",
       "      <td>0</td>\n",
       "      <td>0</td>\n",
       "      <td>0</td>\n",
       "      <td>0</td>\n",
       "      <td>0</td>\n",
       "      <td>189</td>\n",
       "    </tr>\n",
       "  </tbody>\n",
       "</table>\n",
       "<p>159571 rows × 8 columns</p>\n",
       "</div>"
      ],
      "text/plain": [
       "                                             comment_text  malignant  \\\n",
       "0       Explanation\\nWhy the edits made under my usern...          0   \n",
       "1       D'aww! He matches this background colour I'm s...          0   \n",
       "2       Hey man, I'm really not trying to edit war. It...          0   \n",
       "3       \"\\nMore\\nI can't make any real suggestions on ...          0   \n",
       "4       You, sir, are my hero. Any chance you remember...          0   \n",
       "...                                                   ...        ...   \n",
       "159566  \":::::And for the second time of asking, when ...          0   \n",
       "159567  You should be ashamed of yourself \\n\\nThat is ...          0   \n",
       "159568  Spitzer \\n\\nUmm, theres no actual article for ...          0   \n",
       "159569  And it looks like it was actually you who put ...          0   \n",
       "159570  \"\\nAnd ... I really don't think you understand...          0   \n",
       "\n",
       "        highly_malignant  rude  threat  abuse  loathe  length  \n",
       "0                      0     0       0      0       0     264  \n",
       "1                      0     0       0      0       0     112  \n",
       "2                      0     0       0      0       0     233  \n",
       "3                      0     0       0      0       0     622  \n",
       "4                      0     0       0      0       0      67  \n",
       "...                  ...   ...     ...    ...     ...     ...  \n",
       "159566                 0     0       0      0       0     295  \n",
       "159567                 0     0       0      0       0      99  \n",
       "159568                 0     0       0      0       0      81  \n",
       "159569                 0     0       0      0       0     116  \n",
       "159570                 0     0       0      0       0     189  \n",
       "\n",
       "[159571 rows x 8 columns]"
      ]
     },
     "execution_count": 7,
     "metadata": {},
     "output_type": "execute_result"
    }
   ],
   "source": [
    "# length contains length of the  features\n",
    "train['length']=train.comment_text.str.len()\n",
    "train"
   ]
  },
  {
   "cell_type": "code",
   "execution_count": 8,
   "id": "734e6eff",
   "metadata": {},
   "outputs": [],
   "source": [
    "# Replace email address with 'email'\n",
    "train['comment_text']=train['comment_text'].str.replace(r'^.+@[^\\.].*\\.[a-z]{2,}$','emailaddress')\n",
    "\n",
    "#ReplaceURLs with 'webaddress'\n",
    "train['comment_text']=train['comment_text'].str.replace(r'^http\\://[a-zA-Z0-9\\-\\.]+\\.[a-zA-Z]{2,3}(/\\S*)?$','webaddress')\n",
    "\n",
    "#Replace money symbols with 'moneysymb'\n",
    "train['comment_text']=train['comment_text'].str.replace(r'£|\\$','dollars')\n",
    "\n",
    "#Replace 10 digit phone number \n",
    "train['comment_text']=train['comment_text'].str.replace(r'^\\(?[\\d]{3}\\)?[\\s-]?[\\d]{3}[\\s-]?[\\d]{4}$','phonenumber')\n",
    "                                                \n",
    "#Replace numbers with 'numbr'\n",
    "train['comment_text']=train['comment_text'].str.replace(r'\\d+(\\.\\d+)?', 'numbr')\n",
    "\n",
    "# Remove Punctuation \n",
    "train['comment_text']=train['comment_text'].str.replace(r'[^\\w\\d\\s]',' ')\n",
    "\n",
    "#Replace Whitspace between terms with  a single space\n",
    "train['comment_text']=train['comment_text'].str.replace(r'\\s+',' ')\n",
    "\n",
    "#Remove leading and trailing whitespace\n",
    "train['comment_text']=train['comment_text'].str.replace(r'^\\s+|\\s+?$',' ')"
   ]
  },
  {
   "cell_type": "code",
   "execution_count": 11,
   "id": "3166317b",
   "metadata": {},
   "outputs": [
    {
     "name": "stderr",
     "output_type": "stream",
     "text": [
      "[nltk_data] Downloading package stopwords to\n",
      "[nltk_data]     /Users/gkrishnan/nltk_data...\n",
      "[nltk_data]   Unzipping corpora/stopwords.zip.\n"
     ]
    },
    {
     "data": {
      "text/plain": [
       "True"
      ]
     },
     "execution_count": 11,
     "metadata": {},
     "output_type": "execute_result"
    }
   ],
   "source": [
    " import nltk\n",
    "nltk.download('stopwords')"
   ]
  },
  {
   "cell_type": "code",
   "execution_count": 14,
   "id": "972cc4bc",
   "metadata": {},
   "outputs": [],
   "source": [
    "# Replace email address with 'email'\n",
    "test['comment_text']=test['comment_text'].str.replace(r'^.+@[^\\.].*\\.[a-z]{2,}$','emailaddress')\n",
    "\n",
    "#ReplaceURLs with 'webaddress'\n",
    "test['comment_text']=test['comment_text'].str.replace(r'^http\\://[a-zA-Z0-9\\-\\.]+\\.[a-zA-Z]{2,3}(/\\S*)?$','webaddress')\n",
    "\n",
    "#Replace money symbols with 'moneysymb'\n",
    "test['comment_text']=test['comment_text'].str.replace(r'£|\\$','dollars')\n",
    "\n",
    "#Replace 10 digit phone number \n",
    "test['comment_text']=test['comment_text'].str.replace(r'^\\(?[\\d]{3}\\)?[\\s-]?[\\d]{3}[\\s-]?[\\d]{4}$','phonenumber')\n",
    "                                                \n",
    "#Replace numbers with 'numbr'\n",
    "test['comment_text']=test['comment_text'].str.replace(r'\\d+(\\.\\d+)?', 'numbr')\n",
    "\n",
    "# Remove Punctuation \n",
    "test['comment_text']=test['comment_text'].str.replace(r'[^\\w\\d\\s]',' ')\n",
    "\n",
    "#Replace Whitspace between terms with  a single space\n",
    "test['comment_text']=test['comment_text'].str.replace(r'\\s+',' ')\n",
    "\n",
    "#Remove leading and trailing whitespace\n",
    "test['comment_text']=test['comment_text'].str.replace(r'^\\s+|\\s+?$',' ')"
   ]
  },
  {
   "cell_type": "code",
   "execution_count": 15,
   "id": "2ca8f4f0",
   "metadata": {},
   "outputs": [],
   "source": [
    "#Removing Stopwords from train dataset\n",
    "stop_words = set(stopwords.words('english') +['u','ur','4','2','im','dont','doin','I','numbr','YOU','You','A','If','one','The','page','would','article','talk','like','know','THE','people','get'])\n",
    "train['comment_text'] = train['comment_text'].apply(lambda x: ' '.join(term for term in x.split() if term not in stop_words))"
   ]
  },
  {
   "cell_type": "code",
   "execution_count": 16,
   "id": "81b042d5",
   "metadata": {},
   "outputs": [],
   "source": [
    "#Remove Stopwords from test dataset\n",
    "stop_words = set(stopwords.words('english') +['u','ur','4','2','im','dont','doin','I','numbr','YOU','You','A','If','one','The','page','would','article','talk','like','know','THE','people','get'])\n",
    "test['comment_text'] = test['comment_text'].apply(lambda x: ' '.join(term for term in x.split() if term not in stop_words))"
   ]
  },
  {
   "cell_type": "code",
   "execution_count": 17,
   "id": "03f308d3",
   "metadata": {},
   "outputs": [
    {
     "data": {
      "text/plain": [
       "0         Explanation Why edits made username Hardcore M...\n",
       "1         D aww He matches background colour seemingly s...\n",
       "2         Hey man really trying edit war It guy constant...\n",
       "3         More make real suggestions improvement wondere...\n",
       "4                              sir hero Any chance remember\n",
       "                                ...                        \n",
       "159566    And second time asking view completely contrad...\n",
       "159567                      ashamed That horrible thing put\n",
       "159568    Spitzer Umm theres actual prostitution ring Cr...\n",
       "159569    And looks actually put speedy first version de...\n",
       "159570    And really think understand came idea bad righ...\n",
       "Name: comment_text, Length: 159571, dtype: object"
      ]
     },
     "execution_count": 17,
     "metadata": {},
     "output_type": "execute_result"
    }
   ],
   "source": [
    "# checking the comments content..\n",
    "train[\"comment_text\"]"
   ]
  },
  {
   "cell_type": "code",
   "execution_count": 18,
   "id": "db7eea26",
   "metadata": {},
   "outputs": [
    {
     "data": {
      "text/html": [
       "<div>\n",
       "<style scoped>\n",
       "    .dataframe tbody tr th:only-of-type {\n",
       "        vertical-align: middle;\n",
       "    }\n",
       "\n",
       "    .dataframe tbody tr th {\n",
       "        vertical-align: top;\n",
       "    }\n",
       "\n",
       "    .dataframe thead th {\n",
       "        text-align: right;\n",
       "    }\n",
       "</style>\n",
       "<table border=\"1\" class=\"dataframe\">\n",
       "  <thead>\n",
       "    <tr style=\"text-align: right;\">\n",
       "      <th></th>\n",
       "      <th>comment_text</th>\n",
       "      <th>malignant</th>\n",
       "      <th>highly_malignant</th>\n",
       "      <th>rude</th>\n",
       "      <th>threat</th>\n",
       "      <th>abuse</th>\n",
       "      <th>loathe</th>\n",
       "      <th>length</th>\n",
       "      <th>Clean_length</th>\n",
       "    </tr>\n",
       "  </thead>\n",
       "  <tbody>\n",
       "    <tr>\n",
       "      <th>0</th>\n",
       "      <td>Explanation Why edits made username Hardcore M...</td>\n",
       "      <td>0</td>\n",
       "      <td>0</td>\n",
       "      <td>0</td>\n",
       "      <td>0</td>\n",
       "      <td>0</td>\n",
       "      <td>0</td>\n",
       "      <td>264</td>\n",
       "      <td>161</td>\n",
       "    </tr>\n",
       "    <tr>\n",
       "      <th>1</th>\n",
       "      <td>D aww He matches background colour seemingly s...</td>\n",
       "      <td>0</td>\n",
       "      <td>0</td>\n",
       "      <td>0</td>\n",
       "      <td>0</td>\n",
       "      <td>0</td>\n",
       "      <td>0</td>\n",
       "      <td>112</td>\n",
       "      <td>69</td>\n",
       "    </tr>\n",
       "    <tr>\n",
       "      <th>2</th>\n",
       "      <td>Hey man really trying edit war It guy constant...</td>\n",
       "      <td>0</td>\n",
       "      <td>0</td>\n",
       "      <td>0</td>\n",
       "      <td>0</td>\n",
       "      <td>0</td>\n",
       "      <td>0</td>\n",
       "      <td>233</td>\n",
       "      <td>137</td>\n",
       "    </tr>\n",
       "    <tr>\n",
       "      <th>3</th>\n",
       "      <td>More make real suggestions improvement wondere...</td>\n",
       "      <td>0</td>\n",
       "      <td>0</td>\n",
       "      <td>0</td>\n",
       "      <td>0</td>\n",
       "      <td>0</td>\n",
       "      <td>0</td>\n",
       "      <td>622</td>\n",
       "      <td>379</td>\n",
       "    </tr>\n",
       "    <tr>\n",
       "      <th>4</th>\n",
       "      <td>sir hero Any chance remember</td>\n",
       "      <td>0</td>\n",
       "      <td>0</td>\n",
       "      <td>0</td>\n",
       "      <td>0</td>\n",
       "      <td>0</td>\n",
       "      <td>0</td>\n",
       "      <td>67</td>\n",
       "      <td>28</td>\n",
       "    </tr>\n",
       "  </tbody>\n",
       "</table>\n",
       "</div>"
      ],
      "text/plain": [
       "                                        comment_text  malignant  \\\n",
       "0  Explanation Why edits made username Hardcore M...          0   \n",
       "1  D aww He matches background colour seemingly s...          0   \n",
       "2  Hey man really trying edit war It guy constant...          0   \n",
       "3  More make real suggestions improvement wondere...          0   \n",
       "4                       sir hero Any chance remember          0   \n",
       "\n",
       "   highly_malignant  rude  threat  abuse  loathe  length  Clean_length  \n",
       "0                 0     0       0      0       0     264           161  \n",
       "1                 0     0       0      0       0     112            69  \n",
       "2                 0     0       0      0       0     233           137  \n",
       "3                 0     0       0      0       0     622           379  \n",
       "4                 0     0       0      0       0      67            28  "
      ]
     },
     "execution_count": 18,
     "metadata": {},
     "output_type": "execute_result"
    }
   ],
   "source": [
    "# Clean_length contains length of the clean_comment_text feature after puncuations, stopwords removal\n",
    "train['Clean_length'] = train.comment_text.str.len()\n",
    "train.head()"
   ]
  },
  {
   "cell_type": "code",
   "execution_count": null,
   "id": "dbf4fce2",
   "metadata": {},
   "outputs": [],
   "source": [
    "#Getting sense of loud words which are offensive\n",
    "from wordcloud import WordCloud\n",
    "hams = train['comment_text'][train['malignant']==1]\n",
    "spam_cloud = WordCloud(width=600,height=400,background_color='black',max_words=50).generate(' '.join(hams))\n",
    "plt.figure(figsize=(10,8),facecolor='k')\n",
    "plt.imshow(spam_cloud)\n",
    "plt.axis('off')\n",
    "plt.tight_layout(pad=0)\n",
    "plt.show()"
   ]
  },
  {
   "cell_type": "code",
   "execution_count": null,
   "id": "d5ba8f57",
   "metadata": {},
   "outputs": [],
   "source": [
    "#getting sense of loud words in Comments which are marked as rude.\n",
    "sp = train['comment_text'][train['rude']==1]\n",
    "sp_cloud =WordCloud(mode='RGBA', background_color='rgba(255, 255, 255, 255)').generate(' '.join(sp))\n",
    "plt.figure(figsize=(10,8),facecolor ='r')\n",
    "plt.imshow(sp_cloud)\n",
    "plt.axis('off')\n",
    "plt.tight_layout(pad=0)\n",
    "plt.show()"
   ]
  },
  {
   "cell_type": "code",
   "execution_count": null,
   "id": "fa957dd6",
   "metadata": {},
   "outputs": [],
   "source": [
    "#getting sense of loud words in Comments which are marked as threat.\n",
    "sp = train['comment_text'][train['threat']==1]\n",
    "sp_cloud =WordCloud(mode='RGBA', background_color='rgba(255, 255, 255, 255)').generate(' '.join(sp))\n",
    "plt.figure(figsize=(10,8),facecolor ='r')\n",
    "plt.imshow(sp_cloud)\n",
    "plt.axis('off')\n",
    "plt.tight_layout(pad=0)\n",
    "plt.show()"
   ]
  },
  {
   "cell_type": "code",
   "execution_count": null,
   "id": "4adafc49",
   "metadata": {},
   "outputs": [],
   "source": [
    "#getting sense of loud words in Comments which are marked as abuse.\n",
    "sp = train['comment_text'][train['abuse']==1]\n",
    "sp_cloud =WordCloud(mode='RGBA', background_color='rgba(255, 255, 255, 255)').generate(' '.join(sp))\n",
    "plt.figure(figsize=(10,8),facecolor ='r')\n",
    "plt.imshow(sp_cloud)\n",
    "plt.axis('off')\n",
    "plt.tight_layout(pad=0)\n",
    "plt.show()"
   ]
  },
  {
   "cell_type": "code",
   "execution_count": null,
   "id": "e769a150",
   "metadata": {},
   "outputs": [],
   "source": [
    "#getting sense of loud words in Comments which are marked as loathe.\n",
    "sp = train['comment_text'][train['loathe']==1]\n",
    "sp_cloud =WordCloud(mode='RGBA', background_color='rgba(255, 255, 255, 255)').generate(' '.join(sp))\n",
    "plt.figure(figsize=(10,8),facecolor ='r')\n",
    "plt.imshow(sp_cloud)\n",
    "plt.axis('off')\n",
    "plt.tight_layout(pad=0)\n",
    "plt.show()"
   ]
  },
  {
   "cell_type": "code",
   "execution_count": null,
   "id": "0edd3260",
   "metadata": {},
   "outputs": [],
   "source": [
    "#getting sense of loud words in Comments which are marked as highly_malignant.\n",
    "sp = train['comment_text'][train['highly_malignant']==1]\n",
    "sp_cloud =WordCloud(mode='RGBA', background_color='rgba(255, 255, 255, 255)').generate(' '.join(sp))\n",
    "plt.figure(figsize=(10,8),facecolor ='r')\n",
    "plt.imshow(sp_cloud)\n",
    "plt.axis('off')\n",
    "plt.tight_layout(pad=0)\n",
    "plt.show()"
   ]
  },
  {
   "cell_type": "code",
   "execution_count": 27,
   "id": "f3b98fdd",
   "metadata": {},
   "outputs": [
    {
     "data": {
      "text/plain": [
       "<matplotlib.legend.Legend at 0x7fabb80eefa0>"
      ]
     },
     "execution_count": 27,
     "metadata": {},
     "output_type": "execute_result"
    },
    {
     "data": {
      "image/png": "[encoded data removed]",
      "text/plain": [
       "<Figure size 576x576 with 1 Axes>"
      ]
     },
     "metadata": {},
     "output_type": "display_data"
    }
   ],
   "source": [
    "#Pie chart will help us to identify Which kind of commments has more nummber of comments.\n",
    "cols_target = ['malignant','threat','abuse','loathe','highly_malignant','rude',]\n",
    "df_distribution = train[cols_target].sum()\\\n",
    "                            .to_frame()\\\n",
    "                            .rename(columns={0: 'count'})\\\n",
    "                            .sort_values('count')\n",
    "\n",
    "df_distribution.plot.pie(y='count',shadow=True,labels=cols_target, autopct='%.2f%%',\n",
    "                                      title='Label distribution over comments',\n",
    "                                      figsize=(8,8))\\\n",
    "                            .legend(loc='center left', bbox_to_anchor=(1.3, 0.5))"
   ]
  },
  {
   "cell_type": "code",
   "execution_count": 28,
   "id": "00ecbbd9",
   "metadata": {},
   "outputs": [
    {
     "name": "stdout",
     "output_type": "stream",
     "text": [
      "0    143346\n",
      "1      6360\n",
      "3      4209\n",
      "2      3480\n",
      "4      1760\n",
      "5       385\n",
      "6        31\n",
      "Name: label, dtype: int64\n",
      "0    143346\n",
      "1     16225\n",
      "Name: label, dtype: int64\n"
     ]
    }
   ],
   "source": [
    "target_data = train[cols_target]\n",
    "train['label'] =train[cols_target].sum(axis =1)\n",
    "print(train['label'].value_counts())\n",
    "train['label'] = train['label'] > 0 \n",
    "train['label'] = train['label'].astype(int)\n",
    "print(train['label'].value_counts())"
   ]
  },
  {
   "cell_type": "code",
   "execution_count": 29,
   "id": "c61eeb50",
   "metadata": {},
   "outputs": [
    {
     "name": "stdout",
     "output_type": "stream",
     "text": [
      "TOP 200 Words in Each Category (Word,Counts)\n"
     ]
    },
    {
     "data": {
      "text/html": [
       "<div>\n",
       "<style scoped>\n",
       "    .dataframe tbody tr th:only-of-type {\n",
       "        vertical-align: middle;\n",
       "    }\n",
       "\n",
       "    .dataframe tbody tr th {\n",
       "        vertical-align: top;\n",
       "    }\n",
       "\n",
       "    .dataframe thead th {\n",
       "        text-align: right;\n",
       "    }\n",
       "</style>\n",
       "<table border=\"1\" class=\"dataframe\">\n",
       "  <thead>\n",
       "    <tr style=\"text-align: right;\">\n",
       "      <th></th>\n",
       "      <th>Malignant Words</th>\n",
       "      <th>Not Malignant Words</th>\n",
       "    </tr>\n",
       "  </thead>\n",
       "  <tbody>\n",
       "    <tr>\n",
       "      <th>0</th>\n",
       "      <td>(Wikipedia, 37384)</td>\n",
       "      <td>(fuck, 4910)</td>\n",
       "    </tr>\n",
       "    <tr>\n",
       "      <th>1</th>\n",
       "      <td>(It, 21649)</td>\n",
       "      <td>(FUCK, 3533)</td>\n",
       "    </tr>\n",
       "    <tr>\n",
       "      <th>2</th>\n",
       "      <td>(think, 18394)</td>\n",
       "      <td>(NIGGER, 2428)</td>\n",
       "    </tr>\n",
       "    <tr>\n",
       "      <th>3</th>\n",
       "      <td>(see, 17724)</td>\n",
       "      <td>(SUCK, 2393)</td>\n",
       "    </tr>\n",
       "    <tr>\n",
       "      <th>4</th>\n",
       "      <td>(edit, 16428)</td>\n",
       "      <td>(ass, 2282)</td>\n",
       "    </tr>\n",
       "    <tr>\n",
       "      <th>5</th>\n",
       "      <td>(Please, 16388)</td>\n",
       "      <td>(shit, 2113)</td>\n",
       "    </tr>\n",
       "    <tr>\n",
       "      <th>6</th>\n",
       "      <td>(This, 15719)</td>\n",
       "      <td>(fucking, 1939)</td>\n",
       "    </tr>\n",
       "    <tr>\n",
       "      <th>7</th>\n",
       "      <td>(use, 15624)</td>\n",
       "      <td>(moron, 1833)</td>\n",
       "    </tr>\n",
       "  </tbody>\n",
       "</table>\n",
       "</div>"
      ],
      "text/plain": [
       "      Malignant Words Not Malignant Words\n",
       "0  (Wikipedia, 37384)        (fuck, 4910)\n",
       "1         (It, 21649)        (FUCK, 3533)\n",
       "2      (think, 18394)      (NIGGER, 2428)\n",
       "3        (see, 17724)        (SUCK, 2393)\n",
       "4       (edit, 16428)         (ass, 2282)\n",
       "5     (Please, 16388)        (shit, 2113)\n",
       "6       (This, 15719)     (fucking, 1939)\n",
       "7        (use, 15624)       (moron, 1833)"
      ]
     },
     "execution_count": 29,
     "metadata": {},
     "output_type": "execute_result"
    }
   ],
   "source": [
    "#for counting frequently occurence of Malignant and not Malignant words.\n",
    "import pandas as pd\n",
    "from collections import Counter\n",
    "count1 = Counter(\" \".join(train[train['label']==0][\"comment_text\"]).split()).most_common(200)\n",
    "count2 = Counter(\" \".join(train[train['label']==1][\"comment_text\"]).split()).most_common(200)\n",
    "df=pd.DataFrame()\n",
    "print(\"TOP 200 Words in Each Category (Word,Counts)\")\n",
    "df['Malignant Words']=count1\n",
    "df['Not Malignant Words']=count2\n",
    "df.head(8)"
   ]
  },
  {
   "cell_type": "code",
   "execution_count": 30,
   "id": "e87cce86",
   "metadata": {},
   "outputs": [
    {
     "data": {
      "image/png": "[encoded data removed]",
      "text/plain": [
       "<Figure size 1080x576 with 2 Axes>"
      ]
     },
     "metadata": {
      "needs_background": "light"
     },
     "output_type": "display_data"
    }
   ],
   "source": [
    "# Comments length distribution BEFORE cleaning\n",
    "f,ax = plt.subplots(1,2,figsize = (15,8))\n",
    "sns.distplot(train[train['label']==0]['length'],bins=20,ax=ax[0],label='Not MALIGNANT words distribution',color='g')\n",
    "ax[0].set_xlabel('Not MALIGNANT words length')\n",
    "ax[0].legend()\n",
    "sns.distplot(train[train['label']==1]['length'],bins=20,ax=ax[1],label=' MALIGNANT words distribution')\n",
    "ax[1].set_xlabel('MALIGNANT words length')\n",
    "ax[1].legend()\n",
    "plt.show()"
   ]
  },
  {
   "cell_type": "code",
   "execution_count": 31,
   "id": "8a4042c0",
   "metadata": {},
   "outputs": [
    {
     "data": {
      "image/png": "[encoded data removed]",
      "text/plain": [
       "<Figure size 1080x576 with 2 Axes>"
      ]
     },
     "metadata": {
      "needs_background": "light"
     },
     "output_type": "display_data"
    }
   ],
   "source": [
    "# Comments length distribution after cleaning\n",
    "f,ax = plt.subplots(1,2,figsize = (15,8))\n",
    "sns.distplot(train[train['label']==0]['Clean_length'],bins=20,ax=ax[0],label='Not MALIGNANT words distribution',color='g')\n",
    "ax[0].set_xlabel('Not MALIGNANT words length')\n",
    "ax[0].legend()\n",
    "sns.distplot(train[train['label']==1]['Clean_length'],bins=20,ax=ax[1],label=' MALIGNANT words distribution')\n",
    "ax[1].set_xlabel('MALIGNANT words length')\n",
    "ax[1].legend()\n",
    "plt.show()"
   ]
  },
  {
   "cell_type": "code",
   "execution_count": 32,
   "id": "89bd0fca",
   "metadata": {},
   "outputs": [],
   "source": [
    "# creating the TF-IDF(term frequency–inverse document frequency) vectorizer function in order to convert the tokens \n",
    "#   from the train documents into vectors so that machine can do further processing\n",
    "def Tf_idf_train(text):\n",
    "    tfid = TfidfVectorizer(min_df=3,smooth_idf=False)\n",
    "    return tfid.fit_transform(text)"
   ]
  },
  {
   "cell_type": "code",
   "execution_count": 33,
   "id": "20df40c5",
   "metadata": {},
   "outputs": [],
   "source": [
    "# Inserting vectorized values in a variable x, which will be used in training the model \n",
    "x=Tf_idf_train(train['comment_text'])"
   ]
  },
  {
   "cell_type": "code",
   "execution_count": 34,
   "id": "6e54e631",
   "metadata": {},
   "outputs": [
    {
     "name": "stdout",
     "output_type": "stream",
     "text": [
      "Shape of x:  (159571, 51305)\n",
      "Shape of y:  (159571,)\n"
     ]
    }
   ],
   "source": [
    "# checking the shape of the data which is inserted in x which will be used for model training.\n",
    "print(\"Shape of x: \",x.shape)\n",
    "\n",
    "# Assigning the label in y and checking it's shape\n",
    "y = train['label'].values\n",
    "print(\"Shape of y: \",y.shape)"
   ]
  },
  {
   "cell_type": "code",
   "execution_count": 35,
   "id": "f6029e44",
   "metadata": {},
   "outputs": [
    {
     "name": "stdout",
     "output_type": "stream",
     "text": [
      "*******************************************************************************\n",
      "|||||||||||||||||||||||||||||||||||||||||||||||||||||||||||||||||||||||||||||||\n",
      "accuracy score of -> LogisticRegression()\n",
      "0.9551721256684492\n",
      "[[42809   196]\n",
      " [ 1950  2917]]\n",
      "              precision    recall  f1-score   support\n",
      "\n",
      "           0       0.96      1.00      0.98     43005\n",
      "           1       0.94      0.60      0.73      4867\n",
      "\n",
      "    accuracy                           0.96     47872\n",
      "   macro avg       0.95      0.80      0.85     47872\n",
      "weighted avg       0.95      0.96      0.95     47872\n",
      "\n",
      "|||||||||||||||||||||||||||||||||||||||||||||||||||||||||||||||||||||||||||||||\n",
      "*******************************************************************************\n",
      "*******************************************************************************\n",
      "|||||||||||||||||||||||||||||||||||||||||||||||||||||||||||||||||||||||||||||||\n",
      "accuracy score of -> KNeighborsClassifier()\n",
      "0.9017379679144385\n",
      "[[42343   662]\n",
      " [ 4042   825]]\n",
      "              precision    recall  f1-score   support\n",
      "\n",
      "           0       0.91      0.98      0.95     43005\n",
      "           1       0.55      0.17      0.26      4867\n",
      "\n",
      "    accuracy                           0.90     47872\n",
      "   macro avg       0.73      0.58      0.60     47872\n",
      "weighted avg       0.88      0.90      0.88     47872\n",
      "\n",
      "|||||||||||||||||||||||||||||||||||||||||||||||||||||||||||||||||||||||||||||||\n",
      "*******************************************************************************\n",
      "*******************************************************************************\n",
      "|||||||||||||||||||||||||||||||||||||||||||||||||||||||||||||||||||||||||||||||\n",
      "accuracy score of -> BernoulliNB()\n",
      "0.7941385360962567\n",
      "[[33774  9231]\n",
      " [  624  4243]]\n",
      "              precision    recall  f1-score   support\n",
      "\n",
      "           0       0.98      0.79      0.87     43005\n",
      "           1       0.31      0.87      0.46      4867\n",
      "\n",
      "    accuracy                           0.79     47872\n",
      "   macro avg       0.65      0.83      0.67     47872\n",
      "weighted avg       0.91      0.79      0.83     47872\n",
      "\n",
      "|||||||||||||||||||||||||||||||||||||||||||||||||||||||||||||||||||||||||||||||\n",
      "*******************************************************************************\n",
      "*******************************************************************************\n",
      "|||||||||||||||||||||||||||||||||||||||||||||||||||||||||||||||||||||||||||||||\n",
      "accuracy score of -> DecisionTreeClassifier()\n",
      "0.9415942513368984\n",
      "[[41642  1363]\n",
      " [ 1433  3434]]\n",
      "              precision    recall  f1-score   support\n",
      "\n",
      "           0       0.97      0.97      0.97     43005\n",
      "           1       0.72      0.71      0.71      4867\n",
      "\n",
      "    accuracy                           0.94     47872\n",
      "   macro avg       0.84      0.84      0.84     47872\n",
      "weighted avg       0.94      0.94      0.94     47872\n",
      "\n",
      "|||||||||||||||||||||||||||||||||||||||||||||||||||||||||||||||||||||||||||||||\n",
      "*******************************************************************************\n",
      "*******************************************************************************\n",
      "|||||||||||||||||||||||||||||||||||||||||||||||||||||||||||||||||||||||||||||||\n",
      "accuracy score of -> RandomForestClassifier()\n",
      "0.9559032419786097\n",
      "[[42672   333]\n",
      " [ 1778  3089]]\n",
      "              precision    recall  f1-score   support\n",
      "\n",
      "           0       0.96      0.99      0.98     43005\n",
      "           1       0.90      0.63      0.75      4867\n",
      "\n",
      "    accuracy                           0.96     47872\n",
      "   macro avg       0.93      0.81      0.86     47872\n",
      "weighted avg       0.95      0.96      0.95     47872\n",
      "\n",
      "|||||||||||||||||||||||||||||||||||||||||||||||||||||||||||||||||||||||||||||||\n",
      "*******************************************************************************\n",
      "*******************************************************************************\n",
      "|||||||||||||||||||||||||||||||||||||||||||||||||||||||||||||||||||||||||||||||\n",
      "accuracy score of -> KNeighborsClassifier(n_neighbors=3)\n",
      "0.9144593917112299\n",
      "[[42888   117]\n",
      " [ 3978   889]]\n",
      "              precision    recall  f1-score   support\n",
      "\n",
      "           0       0.92      1.00      0.95     43005\n",
      "           1       0.88      0.18      0.30      4867\n",
      "\n",
      "    accuracy                           0.91     47872\n",
      "   macro avg       0.90      0.59      0.63     47872\n",
      "weighted avg       0.91      0.91      0.89     47872\n",
      "\n",
      "|||||||||||||||||||||||||||||||||||||||||||||||||||||||||||||||||||||||||||||||\n",
      "*******************************************************************************\n"
     ]
    }
   ],
   "source": [
    "from sklearn.linear_model import LogisticRegression\n",
    "from sklearn.model_selection import train_test_split\n",
    "from sklearn.naive_bayes import BernoulliNB\n",
    "from sklearn.svm import SVC\n",
    "from sklearn.tree import DecisionTreeClassifier\n",
    "from sklearn.neighbors import KNeighborsClassifier\n",
    "from sklearn.ensemble import RandomForestClassifier\n",
    "from sklearn.neighbors import KNeighborsClassifier\n",
    "from sklearn.metrics import accuracy_score, confusion_matrix,f1_score,precision_score, recall_score, classification_report,roc_auc_score,roc_curve,auc\n",
    "model=[LogisticRegression(),KNeighborsClassifier(),BernoulliNB(),DecisionTreeClassifier(),RandomForestClassifier(),KNeighborsClassifier(n_neighbors=3)]\n",
    "for m in model:\n",
    "    x_train,x_test,y_train,y_test=train_test_split(x,y,test_size=.30,random_state=42)  \n",
    "    m.fit(x_train,y_train)\n",
    "    pred=m.predict(x_test)\n",
    "    print(\"*******************************************************************************\")\n",
    "    print(\"|||||||||||||||||||||||||||||||||||||||||||||||||||||||||||||||||||||||||||||||\")\n",
    "    print('accuracy score of ->', m)\n",
    "    print(accuracy_score(y_test,pred))\n",
    "    print(confusion_matrix(y_test,pred))\n",
    "    print(classification_report(y_test,pred))\n",
    "    print(\"|||||||||||||||||||||||||||||||||||||||||||||||||||||||||||||||||||||||||||||||\")\n",
    "    print(\"*******************************************************************************\")"
   ]
  },
  {
   "cell_type": "code",
   "execution_count": 36,
   "id": "e29dd45c",
   "metadata": {},
   "outputs": [
    {
     "name": "stdout",
     "output_type": "stream",
     "text": [
      "Accuracy Score= 0.9564254679144385\n",
      "Log loss is 1.505040250152209\n",
      "Confusion matrix  [[42669  1750]\n",
      " [  336  3117]]\n"
     ]
    }
   ],
   "source": [
    "from sklearn.metrics import log_loss\n",
    "from sklearn.model_selection import cross_val_score, cross_val_predict\n",
    "rfc=RandomForestClassifier()\n",
    "rfc.fit(x_train,y_train)\n",
    "predict=rfc.predict(x_test)\n",
    "AS=accuracy_score(predict,y_test)\n",
    "print(\"Accuracy Score=\" ,AS)\n",
    "loss = log_loss(predict,y_test)\n",
    "print(\"Log loss is\", loss)\n",
    "cm=confusion_matrix(predict,y_test)\n",
    "print(\"Confusion matrix \", cm)"
   ]
  },
  {
   "cell_type": "code",
   "execution_count": 37,
   "id": "14836f0b",
   "metadata": {},
   "outputs": [],
   "source": [
    "def Tf_idf_test(text):\n",
    "    tfid = TfidfVectorizer(max_features= 51305,smooth_idf=False)\n",
    "    return tfid.fit_transform(text)"
   ]
  },
  {
   "cell_type": "code",
   "execution_count": 38,
   "id": "eb342ff4",
   "metadata": {},
   "outputs": [],
   "source": [
    "tf_vec= TfidfVectorizer(max_features = 51305  ,stop_words = 'english')\n",
    "features1 =tf_vec.fit_transform(test['comment_text'])"
   ]
  },
  {
   "cell_type": "code",
   "execution_count": 39,
   "id": "01f8f6fd",
   "metadata": {},
   "outputs": [
    {
     "data": {
      "text/plain": [
       "array([0, 0, 0, ..., 0, 0, 0])"
      ]
     },
     "execution_count": 39,
     "metadata": {},
     "output_type": "execute_result"
    }
   ],
   "source": [
    "prediction=rfc.predict(features1)\n",
    "prediction"
   ]
  },
  {
   "cell_type": "code",
   "execution_count": 40,
   "id": "3a4ec057",
   "metadata": {},
   "outputs": [],
   "source": [
    "df=pd.DataFrame(prediction)\n",
    "df.to_csv(\"Malignant_Comment_Classifier_Predict.csv\")"
   ]
  },
  {
   "cell_type": "markdown",
   "id": "2153e146",
   "metadata": {},
   "source": [
    "# Saving the Model"
   ]
  },
  {
   "cell_type": "code",
   "execution_count": 41,
   "id": "520750de",
   "metadata": {},
   "outputs": [
    {
     "data": {
      "text/plain": [
       "['Malignant_Comment_Classifier_Predict.obj']"
      ]
     },
     "execution_count": 41,
     "metadata": {},
     "output_type": "execute_result"
    }
   ],
   "source": [
    "import joblib\n",
    "joblib.dump(rfc,\"Malignant_Comment_Classifier_Predict.obj\")"
   ]
  },
  {
   "cell_type": "code",
   "execution_count": 42,
   "id": "51d3f5e9",
   "metadata": {},
   "outputs": [
    {
     "name": "stdout",
     "output_type": "stream",
     "text": [
      "Fitting 5 folds for each of 32 candidates, totalling 160 fits\n",
      "[CV 1/5] END max_depth=21, max_features=auto, min_samples_leaf=1;, score=0.899 total time=  18.9s\n",
      "[CV 2/5] END max_depth=21, max_features=auto, min_samples_leaf=1;, score=0.899 total time=  18.5s\n",
      "[CV 3/5] END max_depth=21, max_features=auto, min_samples_leaf=1;, score=0.899 total time=  18.5s\n",
      "[CV 4/5] END max_depth=21, max_features=auto, min_samples_leaf=1;, score=0.899 total time=  18.4s\n",
      "[CV 5/5] END max_depth=21, max_features=auto, min_samples_leaf=1;, score=0.899 total time=  18.9s\n",
      "[CV 1/5] END max_depth=21, max_features=auto, min_samples_leaf=2;, score=0.899 total time=  18.1s\n",
      "[CV 2/5] END max_depth=21, max_features=auto, min_samples_leaf=2;, score=0.899 total time=  17.9s\n",
      "[CV 3/5] END max_depth=21, max_features=auto, min_samples_leaf=2;, score=0.899 total time=  17.8s\n",
      "[CV 4/5] END max_depth=21, max_features=auto, min_samples_leaf=2;, score=0.899 total time=  17.7s\n",
      "[CV 5/5] END max_depth=21, max_features=auto, min_samples_leaf=2;, score=0.899 total time=  17.9s\n",
      "[CV 1/5] END max_depth=21, max_features=auto, min_samples_leaf=3;, score=0.899 total time=  17.8s\n",
      "[CV 2/5] END max_depth=21, max_features=auto, min_samples_leaf=3;, score=0.899 total time=  17.9s\n",
      "[CV 3/5] END max_depth=21, max_features=auto, min_samples_leaf=3;, score=0.899 total time=  17.7s\n",
      "[CV 4/5] END max_depth=21, max_features=auto, min_samples_leaf=3;, score=0.899 total time=  17.5s\n",
      "[CV 5/5] END max_depth=21, max_features=auto, min_samples_leaf=3;, score=0.899 total time=  17.7s\n",
      "[CV 1/5] END max_depth=21, max_features=auto, min_samples_leaf=4;, score=0.899 total time=  17.7s\n",
      "[CV 2/5] END max_depth=21, max_features=auto, min_samples_leaf=4;, score=0.899 total time=  18.2s\n",
      "[CV 3/5] END max_depth=21, max_features=auto, min_samples_leaf=4;, score=0.899 total time=  17.7s\n",
      "[CV 4/5] END max_depth=21, max_features=auto, min_samples_leaf=4;, score=0.899 total time=  17.6s\n",
      "[CV 5/5] END max_depth=21, max_features=auto, min_samples_leaf=4;, score=0.899 total time=  17.8s\n",
      "[CV 1/5] END max_depth=21, max_features=sqrt, min_samples_leaf=1;, score=0.899 total time=  18.4s\n",
      "[CV 2/5] END max_depth=21, max_features=sqrt, min_samples_leaf=1;, score=0.899 total time=  18.5s\n",
      "[CV 3/5] END max_depth=21, max_features=sqrt, min_samples_leaf=1;, score=0.899 total time=  18.5s\n",
      "[CV 4/5] END max_depth=21, max_features=sqrt, min_samples_leaf=1;, score=0.899 total time=  18.5s\n",
      "[CV 5/5] END max_depth=21, max_features=sqrt, min_samples_leaf=1;, score=0.899 total time=  18.7s\n",
      "[CV 1/5] END max_depth=21, max_features=sqrt, min_samples_leaf=2;, score=0.899 total time=  17.8s\n",
      "[CV 2/5] END max_depth=21, max_features=sqrt, min_samples_leaf=2;, score=0.900 total time=  17.8s\n",
      "[CV 3/5] END max_depth=21, max_features=sqrt, min_samples_leaf=2;, score=0.899 total time=  17.7s\n",
      "[CV 4/5] END max_depth=21, max_features=sqrt, min_samples_leaf=2;, score=0.899 total time=  17.7s\n",
      "[CV 5/5] END max_depth=21, max_features=sqrt, min_samples_leaf=2;, score=0.899 total time=  17.8s\n",
      "[CV 1/5] END max_depth=21, max_features=sqrt, min_samples_leaf=3;, score=0.899 total time=  17.7s\n",
      "[CV 2/5] END max_depth=21, max_features=sqrt, min_samples_leaf=3;, score=0.899 total time=  17.9s\n",
      "[CV 3/5] END max_depth=21, max_features=sqrt, min_samples_leaf=3;, score=0.899 total time=  17.7s\n",
      "[CV 4/5] END max_depth=21, max_features=sqrt, min_samples_leaf=3;, score=0.899 total time=  17.7s\n",
      "[CV 5/5] END max_depth=21, max_features=sqrt, min_samples_leaf=3;, score=0.899 total time=  17.7s\n",
      "[CV 1/5] END max_depth=21, max_features=sqrt, min_samples_leaf=4;, score=0.899 total time=  17.6s\n",
      "[CV 2/5] END max_depth=21, max_features=sqrt, min_samples_leaf=4;, score=0.899 total time=  17.6s\n",
      "[CV 3/5] END max_depth=21, max_features=sqrt, min_samples_leaf=4;, score=0.899 total time=  17.5s\n",
      "[CV 4/5] END max_depth=21, max_features=sqrt, min_samples_leaf=4;, score=0.899 total time=  17.6s\n",
      "[CV 5/5] END max_depth=21, max_features=sqrt, min_samples_leaf=4;, score=0.899 total time=  17.6s\n",
      "[CV 1/5] END max_depth=22, max_features=auto, min_samples_leaf=1;, score=0.899 total time=  19.3s\n",
      "[CV 2/5] END max_depth=22, max_features=auto, min_samples_leaf=1;, score=0.899 total time=  19.3s\n",
      "[CV 3/5] END max_depth=22, max_features=auto, min_samples_leaf=1;, score=0.899 total time=  19.3s\n",
      "[CV 4/5] END max_depth=22, max_features=auto, min_samples_leaf=1;, score=0.899 total time=  19.6s\n",
      "[CV 5/5] END max_depth=22, max_features=auto, min_samples_leaf=1;, score=0.899 total time=  19.5s\n",
      "[CV 1/5] END max_depth=22, max_features=auto, min_samples_leaf=2;, score=0.899 total time=  18.7s\n",
      "[CV 2/5] END max_depth=22, max_features=auto, min_samples_leaf=2;, score=0.899 total time=  18.7s\n",
      "[CV 3/5] END max_depth=22, max_features=auto, min_samples_leaf=2;, score=0.899 total time=  18.9s\n",
      "[CV 4/5] END max_depth=22, max_features=auto, min_samples_leaf=2;, score=0.899 total time=  18.9s\n",
      "[CV 5/5] END max_depth=22, max_features=auto, min_samples_leaf=2;, score=0.899 total time=  19.5s\n",
      "[CV 1/5] END max_depth=22, max_features=auto, min_samples_leaf=3;, score=0.899 total time=  19.5s\n",
      "[CV 2/5] END max_depth=22, max_features=auto, min_samples_leaf=3;, score=0.899 total time=  18.8s\n",
      "[CV 3/5] END max_depth=22, max_features=auto, min_samples_leaf=3;, score=0.899 total time=  19.0s\n",
      "[CV 4/5] END max_depth=22, max_features=auto, min_samples_leaf=3;, score=0.899 total time=  19.0s\n",
      "[CV 5/5] END max_depth=22, max_features=auto, min_samples_leaf=3;, score=0.899 total time=  18.9s\n",
      "[CV 1/5] END max_depth=22, max_features=auto, min_samples_leaf=4;, score=0.899 total time=  19.1s\n",
      "[CV 2/5] END max_depth=22, max_features=auto, min_samples_leaf=4;, score=0.899 total time=  18.9s\n",
      "[CV 3/5] END max_depth=22, max_features=auto, min_samples_leaf=4;, score=0.899 total time=  18.3s\n",
      "[CV 4/5] END max_depth=22, max_features=auto, min_samples_leaf=4;, score=0.899 total time=  18.5s\n",
      "[CV 5/5] END max_depth=22, max_features=auto, min_samples_leaf=4;, score=0.899 total time=  18.4s\n",
      "[CV 1/5] END max_depth=22, max_features=sqrt, min_samples_leaf=1;, score=0.899 total time=  19.8s\n",
      "[CV 2/5] END max_depth=22, max_features=sqrt, min_samples_leaf=1;, score=0.899 total time=  19.5s\n",
      "[CV 3/5] END max_depth=22, max_features=sqrt, min_samples_leaf=1;, score=0.899 total time=  19.5s\n",
      "[CV 4/5] END max_depth=22, max_features=sqrt, min_samples_leaf=1;, score=0.899 total time=  19.9s\n",
      "[CV 5/5] END max_depth=22, max_features=sqrt, min_samples_leaf=1;, score=0.899 total time=  20.4s\n",
      "[CV 1/5] END max_depth=22, max_features=sqrt, min_samples_leaf=2;, score=0.899 total time=  18.8s\n",
      "[CV 2/5] END max_depth=22, max_features=sqrt, min_samples_leaf=2;, score=0.899 total time=  19.4s\n",
      "[CV 3/5] END max_depth=22, max_features=sqrt, min_samples_leaf=2;, score=0.899 total time=  18.5s\n",
      "[CV 4/5] END max_depth=22, max_features=sqrt, min_samples_leaf=2;, score=0.899 total time=  18.9s\n",
      "[CV 5/5] END max_depth=22, max_features=sqrt, min_samples_leaf=2;, score=0.899 total time=  18.6s\n",
      "[CV 1/5] END max_depth=22, max_features=sqrt, min_samples_leaf=3;, score=0.899 total time=  18.7s\n",
      "[CV 2/5] END max_depth=22, max_features=sqrt, min_samples_leaf=3;, score=0.899 total time=  18.7s\n",
      "[CV 3/5] END max_depth=22, max_features=sqrt, min_samples_leaf=3;, score=0.899 total time=  18.8s\n",
      "[CV 4/5] END max_depth=22, max_features=sqrt, min_samples_leaf=3;, score=0.899 total time=  18.6s\n",
      "[CV 5/5] END max_depth=22, max_features=sqrt, min_samples_leaf=3;, score=0.899 total time=  18.8s\n",
      "[CV 1/5] END max_depth=22, max_features=sqrt, min_samples_leaf=4;, score=0.899 total time=  19.1s\n",
      "[CV 2/5] END max_depth=22, max_features=sqrt, min_samples_leaf=4;, score=0.899 total time=  19.1s\n",
      "[CV 3/5] END max_depth=22, max_features=sqrt, min_samples_leaf=4;, score=0.899 total time=  19.3s\n",
      "[CV 4/5] END max_depth=22, max_features=sqrt, min_samples_leaf=4;, score=0.899 total time=  18.3s\n",
      "[CV 5/5] END max_depth=22, max_features=sqrt, min_samples_leaf=4;, score=0.898 total time=  18.4s\n",
      "[CV 1/5] END max_depth=23, max_features=auto, min_samples_leaf=1;, score=0.899 total time=  20.2s\n",
      "[CV 2/5] END max_depth=23, max_features=auto, min_samples_leaf=1;, score=0.899 total time=  20.6s\n",
      "[CV 3/5] END max_depth=23, max_features=auto, min_samples_leaf=1;, score=0.899 total time=  21.4s\n"
     ]
    },
    {
     "name": "stdout",
     "output_type": "stream",
     "text": [
      "[CV 4/5] END max_depth=23, max_features=auto, min_samples_leaf=1;, score=0.899 total time=  20.3s\n",
      "[CV 5/5] END max_depth=23, max_features=auto, min_samples_leaf=1;, score=0.899 total time=  20.8s\n",
      "[CV 1/5] END max_depth=23, max_features=auto, min_samples_leaf=2;, score=0.899 total time=  19.6s\n",
      "[CV 2/5] END max_depth=23, max_features=auto, min_samples_leaf=2;, score=0.899 total time=  19.7s\n",
      "[CV 3/5] END max_depth=23, max_features=auto, min_samples_leaf=2;, score=0.900 total time=  20.3s\n",
      "[CV 4/5] END max_depth=23, max_features=auto, min_samples_leaf=2;, score=0.899 total time=  20.0s\n",
      "[CV 5/5] END max_depth=23, max_features=auto, min_samples_leaf=2;, score=0.899 total time=  20.1s\n",
      "[CV 1/5] END max_depth=23, max_features=auto, min_samples_leaf=3;, score=0.899 total time=  20.5s\n",
      "[CV 2/5] END max_depth=23, max_features=auto, min_samples_leaf=3;, score=0.899 total time=  19.7s\n",
      "[CV 3/5] END max_depth=23, max_features=auto, min_samples_leaf=3;, score=0.900 total time=  19.8s\n",
      "[CV 4/5] END max_depth=23, max_features=auto, min_samples_leaf=3;, score=0.899 total time=  19.3s\n",
      "[CV 5/5] END max_depth=23, max_features=auto, min_samples_leaf=3;, score=0.900 total time=  19.5s\n",
      "[CV 1/5] END max_depth=23, max_features=auto, min_samples_leaf=4;, score=0.899 total time=  19.4s\n",
      "[CV 2/5] END max_depth=23, max_features=auto, min_samples_leaf=4;, score=0.899 total time=  19.5s\n",
      "[CV 3/5] END max_depth=23, max_features=auto, min_samples_leaf=4;, score=0.899 total time=  19.9s\n",
      "[CV 4/5] END max_depth=23, max_features=auto, min_samples_leaf=4;, score=0.899 total time=  19.3s\n",
      "[CV 5/5] END max_depth=23, max_features=auto, min_samples_leaf=4;, score=0.899 total time=  19.5s\n",
      "[CV 1/5] END max_depth=23, max_features=sqrt, min_samples_leaf=1;, score=0.899 total time=  20.3s\n",
      "[CV 2/5] END max_depth=23, max_features=sqrt, min_samples_leaf=1;, score=0.899 total time=  20.4s\n",
      "[CV 3/5] END max_depth=23, max_features=sqrt, min_samples_leaf=1;, score=0.899 total time=  20.5s\n",
      "[CV 4/5] END max_depth=23, max_features=sqrt, min_samples_leaf=1;, score=0.900 total time=  20.2s\n",
      "[CV 5/5] END max_depth=23, max_features=sqrt, min_samples_leaf=1;, score=0.899 total time=  20.2s\n",
      "[CV 1/5] END max_depth=23, max_features=sqrt, min_samples_leaf=2;, score=0.899 total time=  19.6s\n",
      "[CV 2/5] END max_depth=23, max_features=sqrt, min_samples_leaf=2;, score=0.899 total time=  19.7s\n",
      "[CV 3/5] END max_depth=23, max_features=sqrt, min_samples_leaf=2;, score=0.899 total time=  19.5s\n",
      "[CV 4/5] END max_depth=23, max_features=sqrt, min_samples_leaf=2;, score=0.899 total time=  19.8s\n",
      "[CV 5/5] END max_depth=23, max_features=sqrt, min_samples_leaf=2;, score=0.899 total time=  20.4s\n",
      "[CV 1/5] END max_depth=23, max_features=sqrt, min_samples_leaf=3;, score=0.899 total time=  20.1s\n",
      "[CV 2/5] END max_depth=23, max_features=sqrt, min_samples_leaf=3;, score=0.899 total time=  20.4s\n",
      "[CV 3/5] END max_depth=23, max_features=sqrt, min_samples_leaf=3;, score=0.899 total time=  19.8s\n",
      "[CV 4/5] END max_depth=23, max_features=sqrt, min_samples_leaf=3;, score=0.899 total time=  19.7s\n",
      "[CV 5/5] END max_depth=23, max_features=sqrt, min_samples_leaf=3;, score=0.899 total time=  20.0s\n",
      "[CV 1/5] END max_depth=23, max_features=sqrt, min_samples_leaf=4;, score=0.899 total time=  19.4s\n",
      "[CV 2/5] END max_depth=23, max_features=sqrt, min_samples_leaf=4;, score=0.899 total time=  19.4s\n",
      "[CV 3/5] END max_depth=23, max_features=sqrt, min_samples_leaf=4;, score=0.899 total time=  19.3s\n",
      "[CV 4/5] END max_depth=23, max_features=sqrt, min_samples_leaf=4;, score=0.899 total time=  19.4s\n",
      "[CV 5/5] END max_depth=23, max_features=sqrt, min_samples_leaf=4;, score=0.899 total time=  19.3s\n",
      "[CV 1/5] END max_depth=24, max_features=auto, min_samples_leaf=1;, score=0.900 total time=  21.6s\n",
      "[CV 2/5] END max_depth=24, max_features=auto, min_samples_leaf=1;, score=0.900 total time=  21.9s\n",
      "[CV 3/5] END max_depth=24, max_features=auto, min_samples_leaf=1;, score=0.899 total time=  21.9s\n",
      "[CV 4/5] END max_depth=24, max_features=auto, min_samples_leaf=1;, score=0.899 total time=  21.4s\n",
      "[CV 5/5] END max_depth=24, max_features=auto, min_samples_leaf=1;, score=0.899 total time=  21.4s\n",
      "[CV 1/5] END max_depth=24, max_features=auto, min_samples_leaf=2;, score=0.899 total time=  20.6s\n",
      "[CV 2/5] END max_depth=24, max_features=auto, min_samples_leaf=2;, score=0.900 total time=  20.1s\n",
      "[CV 3/5] END max_depth=24, max_features=auto, min_samples_leaf=2;, score=0.899 total time=  20.0s\n",
      "[CV 4/5] END max_depth=24, max_features=auto, min_samples_leaf=2;, score=0.899 total time=  20.0s\n",
      "[CV 5/5] END max_depth=24, max_features=auto, min_samples_leaf=2;, score=0.899 total time=  20.1s\n",
      "[CV 1/5] END max_depth=24, max_features=auto, min_samples_leaf=3;, score=0.901 total time=  19.9s\n",
      "[CV 2/5] END max_depth=24, max_features=auto, min_samples_leaf=3;, score=0.899 total time=  20.0s\n",
      "[CV 3/5] END max_depth=24, max_features=auto, min_samples_leaf=3;, score=0.899 total time=  20.6s\n",
      "[CV 4/5] END max_depth=24, max_features=auto, min_samples_leaf=3;, score=0.900 total time=  20.5s\n",
      "[CV 5/5] END max_depth=24, max_features=auto, min_samples_leaf=3;, score=0.899 total time=  20.7s\n",
      "[CV 1/5] END max_depth=24, max_features=auto, min_samples_leaf=4;, score=0.899 total time=  20.3s\n",
      "[CV 2/5] END max_depth=24, max_features=auto, min_samples_leaf=4;, score=0.899 total time=  20.6s\n",
      "[CV 3/5] END max_depth=24, max_features=auto, min_samples_leaf=4;, score=0.899 total time=  20.2s\n",
      "[CV 4/5] END max_depth=24, max_features=auto, min_samples_leaf=4;, score=0.899 total time=  20.2s\n",
      "[CV 5/5] END max_depth=24, max_features=auto, min_samples_leaf=4;, score=0.899 total time=  20.2s\n",
      "[CV 1/5] END max_depth=24, max_features=sqrt, min_samples_leaf=1;, score=0.900 total time=  21.5s\n",
      "[CV 2/5] END max_depth=24, max_features=sqrt, min_samples_leaf=1;, score=0.901 total time=  21.8s\n",
      "[CV 3/5] END max_depth=24, max_features=sqrt, min_samples_leaf=1;, score=0.900 total time=  21.5s\n",
      "[CV 4/5] END max_depth=24, max_features=sqrt, min_samples_leaf=1;, score=0.899 total time=  21.6s\n",
      "[CV 5/5] END max_depth=24, max_features=sqrt, min_samples_leaf=1;, score=0.899 total time=  21.5s\n",
      "[CV 1/5] END max_depth=24, max_features=sqrt, min_samples_leaf=2;, score=0.899 total time=  20.7s\n",
      "[CV 2/5] END max_depth=24, max_features=sqrt, min_samples_leaf=2;, score=0.900 total time=  20.6s\n",
      "[CV 3/5] END max_depth=24, max_features=sqrt, min_samples_leaf=2;, score=0.899 total time=  20.8s\n",
      "[CV 4/5] END max_depth=24, max_features=sqrt, min_samples_leaf=2;, score=0.899 total time=  20.7s\n",
      "[CV 5/5] END max_depth=24, max_features=sqrt, min_samples_leaf=2;, score=0.899 total time=  20.6s\n",
      "[CV 1/5] END max_depth=24, max_features=sqrt, min_samples_leaf=3;, score=0.899 total time=  20.6s\n",
      "[CV 2/5] END max_depth=24, max_features=sqrt, min_samples_leaf=3;, score=0.899 total time=  20.7s\n",
      "[CV 3/5] END max_depth=24, max_features=sqrt, min_samples_leaf=3;, score=0.899 total time=  20.4s\n",
      "[CV 4/5] END max_depth=24, max_features=sqrt, min_samples_leaf=3;, score=0.899 total time=  19.8s\n",
      "[CV 5/5] END max_depth=24, max_features=sqrt, min_samples_leaf=3;, score=0.900 total time=  20.9s\n",
      "[CV 1/5] END max_depth=24, max_features=sqrt, min_samples_leaf=4;, score=0.899 total time=  20.4s\n",
      "[CV 2/5] END max_depth=24, max_features=sqrt, min_samples_leaf=4;, score=0.899 total time=  20.3s\n",
      "[CV 3/5] END max_depth=24, max_features=sqrt, min_samples_leaf=4;, score=0.899 total time=  20.3s\n",
      "[CV 4/5] END max_depth=24, max_features=sqrt, min_samples_leaf=4;, score=0.899 total time=  20.5s\n",
      "[CV 5/5] END max_depth=24, max_features=sqrt, min_samples_leaf=4;, score=0.899 total time=  20.4s\n"
     ]
    },
    {
     "data": {
      "text/plain": [
       "GridSearchCV(estimator=RandomForestClassifier(),\n",
       "             param_grid={'max_depth': range(21, 25),\n",
       "                         'max_features': ['auto', 'sqrt'],\n",
       "                         'min_samples_leaf': range(1, 5)},\n",
       "             verbose=3)"
      ]
     },
     "execution_count": 42,
     "metadata": {},
     "output_type": "execute_result"
    }
   ],
   "source": [
    "from sklearn.model_selection import GridSearchCV\n",
    "\n",
    "parameters = {\"max_depth\":range(21,25),\n",
    "              \"max_features\": ['auto', 'sqrt'],\n",
    "              \"min_samples_leaf\":range(1,5)}\n",
    "\n",
    "clf = GridSearchCV(RandomForestClassifier(), parameters, refit = True, verbose = 3)\n",
    "\n",
    "clf.fit(x_train,y_train) #fitting train and test data"
   ]
  },
  {
   "cell_type": "code",
   "execution_count": 43,
   "id": "10bba328",
   "metadata": {},
   "outputs": [
    {
     "data": {
      "text/plain": [
       "{'max_depth': 24, 'max_features': 'sqrt', 'min_samples_leaf': 1}"
      ]
     },
     "execution_count": 43,
     "metadata": {},
     "output_type": "execute_result"
    }
   ],
   "source": [
    "clf.best_params_  #Best parameters"
   ]
  },
  {
   "cell_type": "code",
   "execution_count": 44,
   "id": "640fd00a",
   "metadata": {},
   "outputs": [],
   "source": [
    "clf_pred=clf.best_estimator_.predict(x_test)"
   ]
  },
  {
   "cell_type": "code",
   "execution_count": 45,
   "id": "47ceaa0f",
   "metadata": {},
   "outputs": [
    {
     "name": "stdout",
     "output_type": "stream",
     "text": [
      "              precision    recall  f1-score   support\n",
      "\n",
      "           0       0.90      1.00      0.95     43005\n",
      "           1       1.00      0.01      0.02      4867\n",
      "\n",
      "    accuracy                           0.90     47872\n",
      "   macro avg       0.95      0.51      0.49     47872\n",
      "weighted avg       0.91      0.90      0.85     47872\n",
      "\n"
     ]
    }
   ],
   "source": [
    "print(classification_report(y_test, clf_pred))"
   ]
  },
  {
   "cell_type": "code",
   "execution_count": 46,
   "id": "68edcf37",
   "metadata": {},
   "outputs": [
    {
     "name": "stdout",
     "output_type": "stream",
     "text": [
      "0.8996072860962567\n"
     ]
    }
   ],
   "source": [
    "print(accuracy_score(y_test,clf_pred))"
   ]
  },
  {
   "cell_type": "markdown",
   "id": "41673011",
   "metadata": {},
   "source": [
    "Since the Accuracy is not good after Hyperparameter tuning, not saving this. It's taking a lot of time run Hyperparameter tuning."
   ]
  }
 ],
 "metadata": {
  "kernelspec": {
   "display_name": "Python 3 (ipykernel)",
   "language": "python",
   "name": "python3"
  },
  "language_info": {
   "codemirror_mode": {
    "name": "ipython",
    "version": 3
   },
   "file_extension": ".py",
   "mimetype": "text/x-python",
   "name": "python",
   "nbconvert_exporter": "python",
   "pygments_lexer": "ipython3",
   "version": "3.9.7"
  }
 },
 "nbformat": 4,
 "nbformat_minor": 5
}
